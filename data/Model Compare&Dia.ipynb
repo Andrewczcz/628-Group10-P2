{
 "cells": [
  {
   "cell_type": "code",
   "execution_count": 27,
   "id": "e1a8d870",
   "metadata": {
    "ExecuteTime": {
     "end_time": "2024-10-14T02:34:14.128006Z",
     "start_time": "2024-10-14T02:34:12.549Z"
    }
   },
   "outputs": [],
   "source": [
    "library(MASS)\n",
    "library(car)\n",
    "library(caret)\n",
    "data <- read.csv(\"BodyFat.csv\")"
   ]
  },
  {
   "cell_type": "markdown",
   "id": "b0361718",
   "metadata": {},
   "source": [
    "## Processing"
   ]
  },
  {
   "cell_type": "code",
   "execution_count": 6,
   "id": "ba9ee97f",
   "metadata": {
    "ExecuteTime": {
     "end_time": "2024-10-11T23:55:09.013828Z",
     "start_time": "2024-10-11T23:55:07.377Z"
    }
   },
   "outputs": [
    {
     "name": "stdout",
     "output_type": "stream",
     "text": [
      "    IDNO BODYFAT DENSITY AGE WEIGHT HEIGHT ADIPOSITY NECK CHEST ABDOMEN   HIP\n",
      "31    31    12.3  1.0716  32 182.00  73.75      23.6 38.7 100.5    88.7  99.8\n",
      "35    35    31.1  1.0263  41 247.25  73.50      32.2 42.1 117.0   115.6 116.1\n",
      "39    39    33.8  1.0202  46 363.15  72.25      48.9 51.2 136.2   148.1 147.7\n",
      "41    41    33.1  1.0217  45 262.75  68.75      39.1 43.2 128.3   126.2 125.6\n",
      "42    42    31.7  1.0250  44 205.00  29.50      29.9 36.6 106.0   104.3 115.5\n",
      "45    45     8.4  1.0814  39 125.25  68.00      19.1 31.5  85.1    76.0  88.2\n",
      "86    86    25.8  1.0386  67 167.00  67.50      26.0 36.5  98.9    89.7  96.2\n",
      "106  106    17.8  1.0578  43 165.50  68.50      24.8 31.1  93.1    87.3  96.6\n",
      "152  152    19.1  1.0542  26 241.75  74.50      30.7 41.8 108.3   102.9 114.4\n",
      "159  159    12.8  1.0704  30 136.50  68.75      20.3 35.9  88.7    76.6  89.8\n",
      "169  169    34.7  1.0180  35 228.25  69.50      33.3 40.4 114.9   115.9 111.9\n",
      "175  175    24.6  1.0414  36 226.75  71.75      31.0 41.5 115.3   108.8 114.4\n",
      "192  192    36.5  1.0140  42 244.25  76.00      29.8 41.8 115.2   113.7 112.4\n",
      "206  206    16.6  1.0610  44 208.75  73.00      27.6 41.9 105.6    96.3 102.0\n",
      "216  216    45.1  0.9950  51 219.00  64.00      37.6 41.2 119.8   122.1 112.8\n",
      "226  226    12.8  1.0703  55 126.50  66.75      20.0 33.4  88.8    78.2  87.5\n",
      "242  242    33.6  1.0207  65 224.50  68.25      33.9 38.8 119.6   118.0 114.3\n",
      "244  244    31.4  1.0256  67 227.75  72.75      30.3 41.3 115.8   113.4 109.8\n",
      "252  252    30.7  1.0271  74 207.50  70.00      29.8 40.8 112.4   108.5 107.1\n",
      "    THIGH KNEE ANKLE BICEPS FOREARM WRIST\n",
      "31   57.5 38.7  33.9   32.5    27.7  18.4\n",
      "35   71.2 43.3  26.3   37.3    31.7  19.7\n",
      "39   87.3 49.1  29.6   45.0    29.0  21.4\n",
      "41   72.5 39.6  26.6   36.4    32.7  21.4\n",
      "42   70.6 42.5  23.7   33.6    28.7  17.4\n",
      "45   50.0 34.7  21.0   26.1    23.1  16.1\n",
      "86   54.7 37.8  33.7   32.4    27.7  18.2\n",
      "106  54.7 39.0  24.8   31.0    29.4  18.8\n",
      "152  72.9 43.5  25.1   38.5    33.8  19.6\n",
      "159  50.1 34.8  21.8   27.0    34.9  16.9\n",
      "169  74.4 40.6  24.0   36.1    31.8  18.8\n",
      "175  69.2 42.4  24.0   35.4    21.0  20.1\n",
      "192  68.5 45.0  25.5   37.1    31.2  19.9\n",
      "206  63.3 39.8  24.1   37.3    23.1  19.4\n",
      "216  62.5 36.9  23.6   34.7    29.1  18.4\n",
      "226  50.8 33.0  19.7   25.3    22.0  15.8\n",
      "242  61.3 42.1  23.4   34.9    30.1  19.4\n",
      "244  65.6 46.0  25.4   35.3    29.8  19.5\n",
      "252  59.3 42.2  24.6   33.7    30.0  20.9\n",
      "                                                                  Outlier_Variables\n",
      "31                                                                            ANKLE\n",
      "35                                                                              HIP\n",
      "39  WEIGHT, ADIPOSITY, NECK, CHEST, ABDOMEN, HIP, THIGH, KNEE, ANKLE, BICEPS, WRIST\n",
      "41                             WEIGHT, ADIPOSITY, CHEST, ABDOMEN, HIP, THIGH, WRIST\n",
      "42                                                                           HEIGHT\n",
      "45                                                                    NECK, FOREARM\n",
      "86                                                                            ANKLE\n",
      "106                                                                            NECK\n",
      "152                                                                           THIGH\n",
      "159                                                                         FOREARM\n",
      "169                                                                           THIGH\n",
      "175                                                                         FOREARM\n",
      "192                                                                            KNEE\n",
      "206                                                                         FOREARM\n",
      "216                                            BODYFAT, DENSITY, ADIPOSITY, ABDOMEN\n",
      "226                                                                  FOREARM, WRIST\n",
      "242                                                                       ADIPOSITY\n",
      "244                                                                            KNEE\n",
      "252                                                                           WRIST\n"
     ]
    }
   ],
   "source": [
    "find_iqr_outliers <- function(x) {\n",
    "  Q1 <- quantile(x, 0.25, na.rm = TRUE)\n",
    "  Q3 <- quantile(x, 0.75, na.rm = TRUE)\n",
    "  IQR_value <- Q3 - Q1\n",
    "  lower_bound <- Q1 - 1.5 * IQR_value\n",
    "  upper_bound <- Q3 + 1.5 * IQR_value\n",
    "  x < lower_bound | x > upper_bound\n",
    "}\n",
    "\n",
    "# 使用其他变量名\n",
    "body_fat_data <- read.csv(\"BodyFat.csv\")\n",
    "\n",
    "# 将代码中的所有 \"data\" 替换为 \"body_fat_data\"\n",
    "data_no_id <- body_fat_data[ , !(names(body_fat_data) %in% c(\"IDNO\"))]\n",
    "iqr_outliers_flags <- as.data.frame(lapply(data_no_id, find_iqr_outliers))\n",
    "outliers_original <- body_fat_data[apply(iqr_outliers_flags, 1, any), ]\n",
    "outliers_columns <- apply(iqr_outliers_flags[apply(iqr_outliers_flags, 1, any), ], 1, function(x) {\n",
    "  colnames(data_no_id)[x]\n",
    "})\n",
    "outliers_original$Outlier_Variables <- sapply(outliers_columns, paste, collapse = \", \")\n",
    "print(outliers_original)\n"
   ]
  },
  {
   "cell_type": "code",
   "execution_count": 8,
   "id": "800407b3",
   "metadata": {
    "ExecuteTime": {
     "end_time": "2024-10-11T23:55:09.035362Z",
     "start_time": "2024-10-11T23:55:07.387Z"
    }
   },
   "outputs": [],
   "source": [
    "body_fat_data <- body_fat_data[!(body_fat_data$IDNO %in% c(39, 41, 216)), ]\n"
   ]
  },
  {
   "cell_type": "code",
   "execution_count": 9,
   "id": "9347d931",
   "metadata": {
    "ExecuteTime": {
     "end_time": "2024-10-11T23:55:09.195822Z",
     "start_time": "2024-10-11T23:55:07.396Z"
    }
   },
   "outputs": [
    {
     "data": {
      "text/html": [
       "<table class=\"dataframe\">\n",
       "<caption>A data.frame: 1 × 17</caption>\n",
       "<thead>\n",
       "\t<tr><th></th><th scope=col>IDNO</th><th scope=col>BODYFAT</th><th scope=col>DENSITY</th><th scope=col>AGE</th><th scope=col>WEIGHT</th><th scope=col>HEIGHT</th><th scope=col>ADIPOSITY</th><th scope=col>NECK</th><th scope=col>CHEST</th><th scope=col>ABDOMEN</th><th scope=col>HIP</th><th scope=col>THIGH</th><th scope=col>KNEE</th><th scope=col>ANKLE</th><th scope=col>BICEPS</th><th scope=col>FOREARM</th><th scope=col>WRIST</th></tr>\n",
       "\t<tr><th></th><th scope=col>&lt;int&gt;</th><th scope=col>&lt;dbl&gt;</th><th scope=col>&lt;dbl&gt;</th><th scope=col>&lt;int&gt;</th><th scope=col>&lt;dbl&gt;</th><th scope=col>&lt;dbl&gt;</th><th scope=col>&lt;dbl&gt;</th><th scope=col>&lt;dbl&gt;</th><th scope=col>&lt;dbl&gt;</th><th scope=col>&lt;dbl&gt;</th><th scope=col>&lt;dbl&gt;</th><th scope=col>&lt;dbl&gt;</th><th scope=col>&lt;dbl&gt;</th><th scope=col>&lt;dbl&gt;</th><th scope=col>&lt;dbl&gt;</th><th scope=col>&lt;dbl&gt;</th><th scope=col>&lt;dbl&gt;</th></tr>\n",
       "</thead>\n",
       "<tbody>\n",
       "\t<tr><th scope=row>42</th><td>42</td><td>31.7</td><td>1.025</td><td>44</td><td>205</td><td>74.93</td><td>29.9</td><td>36.6</td><td>106</td><td>104.3</td><td>115.5</td><td>70.6</td><td>42.5</td><td>23.7</td><td>33.6</td><td>28.7</td><td>17.4</td></tr>\n",
       "</tbody>\n",
       "</table>\n"
      ],
      "text/latex": [
       "A data.frame: 1 × 17\n",
       "\\begin{tabular}{r|lllllllllllllllll}\n",
       "  & IDNO & BODYFAT & DENSITY & AGE & WEIGHT & HEIGHT & ADIPOSITY & NECK & CHEST & ABDOMEN & HIP & THIGH & KNEE & ANKLE & BICEPS & FOREARM & WRIST\\\\\n",
       "  & <int> & <dbl> & <dbl> & <int> & <dbl> & <dbl> & <dbl> & <dbl> & <dbl> & <dbl> & <dbl> & <dbl> & <dbl> & <dbl> & <dbl> & <dbl> & <dbl>\\\\\n",
       "\\hline\n",
       "\t42 & 42 & 31.7 & 1.025 & 44 & 205 & 74.93 & 29.9 & 36.6 & 106 & 104.3 & 115.5 & 70.6 & 42.5 & 23.7 & 33.6 & 28.7 & 17.4\\\\\n",
       "\\end{tabular}\n"
      ],
      "text/markdown": [
       "\n",
       "A data.frame: 1 × 17\n",
       "\n",
       "| <!--/--> | IDNO &lt;int&gt; | BODYFAT &lt;dbl&gt; | DENSITY &lt;dbl&gt; | AGE &lt;int&gt; | WEIGHT &lt;dbl&gt; | HEIGHT &lt;dbl&gt; | ADIPOSITY &lt;dbl&gt; | NECK &lt;dbl&gt; | CHEST &lt;dbl&gt; | ABDOMEN &lt;dbl&gt; | HIP &lt;dbl&gt; | THIGH &lt;dbl&gt; | KNEE &lt;dbl&gt; | ANKLE &lt;dbl&gt; | BICEPS &lt;dbl&gt; | FOREARM &lt;dbl&gt; | WRIST &lt;dbl&gt; |\n",
       "|---|---|---|---|---|---|---|---|---|---|---|---|---|---|---|---|---|---|\n",
       "| 42 | 42 | 31.7 | 1.025 | 44 | 205 | 74.93 | 29.9 | 36.6 | 106 | 104.3 | 115.5 | 70.6 | 42.5 | 23.7 | 33.6 | 28.7 | 17.4 |\n",
       "\n"
      ],
      "text/plain": [
       "   IDNO BODYFAT DENSITY AGE WEIGHT HEIGHT ADIPOSITY NECK CHEST ABDOMEN HIP  \n",
       "42 42   31.7    1.025   44  205    74.93  29.9      36.6 106   104.3   115.5\n",
       "   THIGH KNEE ANKLE BICEPS FOREARM WRIST\n",
       "42 70.6  42.5 23.7  33.6   28.7    17.4 "
      ]
     },
     "metadata": {},
     "output_type": "display_data"
    }
   ],
   "source": [
    "body_fat_data$HEIGHT <-round(body_fat_data$HEIGHT * 2.54 , 2)\n",
    "weight_kg <- body_fat_data$WEIGHT[42] * 0.453592  \n",
    "height_m <- sqrt(weight_kg / body_fat_data$ADIPOSITY[42])  \n",
    "height_cm <- round(height_m * 100, 2)  \n",
    "body_fat_data$HEIGHT[42] <- height_cm\n",
    "body_fat_data[body_fat_data$IDNO == 42, ]"
   ]
  },
  {
   "cell_type": "code",
   "execution_count": 11,
   "id": "930e2351",
   "metadata": {
    "ExecuteTime": {
     "end_time": "2024-10-11T23:55:09.229439Z",
     "start_time": "2024-10-11T23:55:07.406Z"
    }
   },
   "outputs": [],
   "source": [
    "#Preprocessed data\n",
    "df <- body_fat_data[, !names(data) %in% c(\"IDNO\", \"DENSITY\")]\n",
    "df_scaled <- as.data.frame(scale(df))\n",
    "write.csv(df_scaled, \"data.csv\", row.names = FALSE)"
   ]
  },
  {
   "cell_type": "markdown",
   "id": "c80c0271",
   "metadata": {},
   "source": [
    "## Stepwise Regression"
   ]
  },
  {
   "cell_type": "code",
   "execution_count": 17,
   "id": "e8cca2ba",
   "metadata": {
    "ExecuteTime": {
     "end_time": "2024-10-11T23:55:09.356543Z",
     "start_time": "2024-10-11T23:55:07.421Z"
    }
   },
   "outputs": [
    {
     "data": {
      "text/html": [
       "<style>\n",
       ".list-inline {list-style: none; margin:0; padding: 0}\n",
       ".list-inline>li {display: inline-block}\n",
       ".list-inline>li:not(:last-child)::after {content: \"\\00b7\"; padding: 0 .5ex}\n",
       "</style>\n",
       "<ol class=list-inline><li>249</li><li>15</li></ol>\n"
      ],
      "text/latex": [
       "\\begin{enumerate*}\n",
       "\\item 249\n",
       "\\item 15\n",
       "\\end{enumerate*}\n"
      ],
      "text/markdown": [
       "1. 249\n",
       "2. 15\n",
       "\n",
       "\n"
      ],
      "text/plain": [
       "[1] 249  15"
      ]
     },
     "metadata": {},
     "output_type": "display_data"
    },
    {
     "data": {
      "text/plain": [
       "\n",
       "Call:\n",
       "lm(formula = BODYFAT ~ AGE + WEIGHT + NECK + ABDOMEN + THIGH + \n",
       "    FOREARM + WRIST, data = d)\n",
       "\n",
       "Residuals:\n",
       "    Min      1Q  Median      3Q     Max \n",
       "-9.7112 -2.7272 -0.2259  2.6502  9.3716 \n",
       "\n",
       "Coefficients:\n",
       "             Estimate Std. Error t value Pr(>|t|)    \n",
       "(Intercept) -29.33016    8.35770  -3.509 0.000536 ***\n",
       "AGE           0.06812    0.02859   2.383 0.017959 *  \n",
       "WEIGHT       -0.08891    0.03246  -2.739 0.006616 ** \n",
       "NECK         -0.32208    0.20465  -1.574 0.116847    \n",
       "ABDOMEN       0.81452    0.06668  12.215  < 2e-16 ***\n",
       "THIGH         0.23141    0.10694   2.164 0.031455 *  \n",
       "FOREARM       0.36390    0.18005   2.021 0.044373 *  \n",
       "WRIST        -1.43551    0.47741  -3.007 0.002919 ** \n",
       "---\n",
       "Signif. codes:  0 '***' 0.001 '**' 0.01 '*' 0.05 '.' 0.1 ' ' 1\n",
       "\n",
       "Residual standard error: 3.921 on 241 degrees of freedom\n",
       "Multiple R-squared:  0.7345,\tAdjusted R-squared:  0.7268 \n",
       "F-statistic: 95.27 on 7 and 241 DF,  p-value: < 2.2e-16\n"
      ]
     },
     "metadata": {},
     "output_type": "display_data"
    }
   ],
   "source": [
    "d <- read.csv(\"data.csv\")\n",
    "dim(d)\n",
    "full_model <- lm(BODYFAT ~ ., data = d)\n",
    "model1 <- stepAIC(full_model, direction = \"both\", trace = FALSE)\n",
    "summary(model1)\n",
    "adjusted_r_squared1 <- round(summary(model1)$adj.r.squared,3)"
   ]
  },
  {
   "cell_type": "markdown",
   "id": "fb693cbf",
   "metadata": {},
   "source": [
    "## Simple Linear Regression"
   ]
  },
  {
   "cell_type": "code",
   "execution_count": 18,
   "id": "d18049f6",
   "metadata": {
    "ExecuteTime": {
     "end_time": "2024-10-11T23:55:09.407116Z",
     "start_time": "2024-10-11T23:55:07.437Z"
    }
   },
   "outputs": [],
   "source": [
    "variables <- colnames(d)\n",
    "variables <- variables[variables != \"BODYFAT\"]\n",
    "\n",
    "max_adjusted_r_squared <- 0 \n",
    "best_variable <- \"\"\n",
    "for (var in variables) {\n",
    "  formula <- as.formula(paste(\"BODYFAT ~\", var))\n",
    "  model <- lm(formula, data = d)\n",
    "  adjusted_r_squared <- summary(model)$adj.r.squared\n",
    "  if (adjusted_r_squared > max_adjusted_r_squared) {\n",
    "    max_adjusted_r_squared <- adjusted_r_squared\n",
    "    best_variable <- var\n",
    "  }\n",
    "}\n",
    "\n",
    "best_formula <- as.formula(paste(\"BODYFAT ~\", best_variable))\n",
    "model2 <- lm(best_formula, data = d)\n",
    "adjusted_r_squared2 <- round(max_adjusted_r_squared, 3)"
   ]
  },
  {
   "cell_type": "code",
   "execution_count": 19,
   "id": "564c84bf",
   "metadata": {
    "ExecuteTime": {
     "end_time": "2024-10-11T23:55:09.449132Z",
     "start_time": "2024-10-11T23:55:07.447Z"
    }
   },
   "outputs": [
    {
     "data": {
      "text/plain": [
       "BODYFAT ~ ABDOMEN"
      ]
     },
     "metadata": {},
     "output_type": "display_data"
    }
   ],
   "source": [
    "best_formula"
   ]
  },
  {
   "cell_type": "markdown",
   "id": "fd11e933",
   "metadata": {},
   "source": [
    "## Two variable linear regression"
   ]
  },
  {
   "cell_type": "code",
   "execution_count": 20,
   "id": "e7728f29",
   "metadata": {
    "ExecuteTime": {
     "end_time": "2024-10-11T23:55:09.574301Z",
     "start_time": "2024-10-11T23:55:07.461Z"
    }
   },
   "outputs": [],
   "source": [
    "max_adjusted_r_squared <- 0\n",
    "best_variable_pair <- c(\"\",\"\")\n",
    "\n",
    "\n",
    "for (i in 1:(length(variables) - 1)) {\n",
    "  for (j in (i + 1):length(variables)) {\n",
    "    var1 <- variables[i]\n",
    "    var2 <- variables[j]\n",
    "    formula <- as.formula(paste(\"BODYFAT ~\", var1, \"+\", var2))\n",
    "    model <- lm(formula, data = d)\n",
    "\n",
    "    adjusted_r_squared <- summary(model)$adj.r.squared\n",
    "\n",
    "    if (adjusted_r_squared > max_adjusted_r_squared) {\n",
    "      max_adjusted_r_squared <- adjusted_r_squared\n",
    "      best_variable_pair <- c(var1, var2)\n",
    "    }\n",
    "  }\n",
    "}\n",
    "\n",
    "best_formula <- as.formula(paste(\"BODYFAT ~\", best_variable_pair[1], \"+\", best_variable_pair[2]))\n",
    "model3 <- lm(best_formula, data = d)\n",
    "adjusted_r_squared3 <- round(max_adjusted_r_squared, 3)"
   ]
  },
  {
   "cell_type": "markdown",
   "id": "6a97ce53",
   "metadata": {},
   "source": [
    "## Bivariate product term"
   ]
  },
  {
   "cell_type": "code",
   "execution_count": 21,
   "id": "0e2ee4cd",
   "metadata": {
    "ExecuteTime": {
     "end_time": "2024-10-11T23:55:09.693058Z",
     "start_time": "2024-10-11T23:55:07.478Z"
    }
   },
   "outputs": [],
   "source": [
    "max_adjusted_r_squared <- 0\n",
    "best_variable_pair <- c(\"\",\"\")\n",
    "\n",
    "for (i in 1:(length(variables) - 1)) {\n",
    "  for (j in (i + 1):length(variables)) {\n",
    "    var1 <- variables[i]\n",
    "    var2 <- variables[j]\n",
    "    d$interaction_term <- d[[var1]] * d[[var2]]\n",
    "    formula <- as.formula(\"BODYFAT ~ interaction_term\")\n",
    "    model <- lm(formula, data = d)\n",
    "    adjusted_r_squared <- summary(model)$adj.r.squared\n",
    "    if (adjusted_r_squared > max_adjusted_r_squared) {\n",
    "      max_adjusted_r_squared <- adjusted_r_squared\n",
    "      best_variable_pair <- c(var1, var2)\n",
    "    }\n",
    "  }\n",
    "}\n",
    "\n",
    "\n",
    "d$best_interaction_term <- d[[best_variable_pair[1]]] * d[[best_variable_pair[2]]]\n",
    "best_formula <- as.formula(\"BODYFAT ~ best_interaction_term\")\n",
    "model4 <- lm(best_formula, data = d)\n",
    "adjusted_r_squared4 <- round(max_adjusted_r_squared, 3)"
   ]
  },
  {
   "cell_type": "markdown",
   "id": "9bfa1efe",
   "metadata": {},
   "source": [
    "Notice that all the best model includes the variable ABDOMEN, so try its higher-order terms.\n",
    "\n",
    "\n",
    "## ABDOMEN^2"
   ]
  },
  {
   "cell_type": "code",
   "execution_count": 22,
   "id": "166ecac8",
   "metadata": {
    "ExecuteTime": {
     "end_time": "2024-10-11T23:55:09.717513Z",
     "start_time": "2024-10-11T23:55:07.494Z"
    }
   },
   "outputs": [],
   "source": [
    "d$ABDOMEN_squared <- d$ABDOMEN^2\n",
    "model5 <- lm(BODYFAT ~ ABDOMEN_squared, data = d)\n",
    "adjusted_r_squared5 <- round(summary(model5)$adj.r.squared, 3)"
   ]
  },
  {
   "cell_type": "markdown",
   "id": "7ed8cae4",
   "metadata": {},
   "source": [
    "## ABDOMEN^2 + other 1-order"
   ]
  },
  {
   "cell_type": "code",
   "execution_count": 23,
   "id": "5f141d6e",
   "metadata": {
    "ExecuteTime": {
     "end_time": "2024-10-11T23:55:09.759185Z",
     "start_time": "2024-10-11T23:55:07.509Z"
    }
   },
   "outputs": [],
   "source": [
    "variables <- variables[!variables %in% c(\"BODYFAT\", \"ABDOMEN\", \"ABDOMEN_squared\")]\n",
    "\n",
    "max_adjusted_r_squared <- 0\n",
    "best_variable <- \"\"\n",
    "\n",
    "for (var in variables) {\n",
    "  formula <- as.formula(paste(\"BODYFAT ~ ABDOMEN_squared +\", var))\n",
    "  model <- lm(formula, data = d)\n",
    "  adjusted_r_squared <- summary(model)$adj.r.squared\n",
    "  if (adjusted_r_squared > max_adjusted_r_squared) {\n",
    "    max_adjusted_r_squared <- adjusted_r_squared\n",
    "    best_variable <- var\n",
    "  }\n",
    "}\n",
    "\n",
    "best_formula <- as.formula(paste(\"BODYFAT ~ ABDOMEN_squared +\", best_variable))\n",
    "model6 <- lm(best_formula, data = d)\n",
    "adjusted_r_squared6 <- round(max_adjusted_r_squared, 3)"
   ]
  },
  {
   "cell_type": "markdown",
   "id": "cdcca61a",
   "metadata": {},
   "source": [
    "## ABDOMEN^2 +ABDOMEN +other variable 1-order"
   ]
  },
  {
   "cell_type": "code",
   "execution_count": 24,
   "id": "535bb8a4",
   "metadata": {
    "ExecuteTime": {
     "end_time": "2024-10-11T23:55:09.802459Z",
     "start_time": "2024-10-11T23:55:07.525Z"
    }
   },
   "outputs": [],
   "source": [
    "max_adjusted_r_squared <- 0\n",
    "best_variable <- \"\"\n",
    "for (var in variables) {\n",
    " \n",
    "  formula <- as.formula(paste(\"BODYFAT ~ ABDOMEN + ABDOMEN_squared +\", var))\n",
    "  model <- lm(formula, data = d)\n",
    "  adjusted_r_squared <- summary(model)$adj.r.squared\n",
    "  if (adjusted_r_squared > max_adjusted_r_squared) {\n",
    "    max_adjusted_r_squared <- adjusted_r_squared\n",
    "    best_variable <- var\n",
    "  }\n",
    "}\n",
    "\n",
    "best_formula <- as.formula(paste(\"BODYFAT ~ ABDOMEN + ABDOMEN_squared +\", best_variable))\n",
    "model7 <- lm(best_formula, data = d)\n",
    "adjusted_r_squared7 <- round(max_adjusted_r_squared, 3)"
   ]
  },
  {
   "cell_type": "markdown",
   "id": "f27af1c9",
   "metadata": {},
   "source": [
    "## 10-fold CV"
   ]
  },
  {
   "cell_type": "code",
   "execution_count": 28,
   "id": "412b2961",
   "metadata": {
    "ExecuteTime": {
     "end_time": "2024-10-11T23:55:10.666774Z",
     "start_time": "2024-10-11T23:55:07.540Z"
    }
   },
   "outputs": [],
   "source": [
    "train_control <- trainControl(method = \"cv\", number = 10)\n",
    "mse_results <- c()\n",
    "\n",
    "for (i in 1:7) {\n",
    "  model <- get(paste0(\"model\", i))\n",
    "  cv_model <- train(\n",
    "    formula(model),\n",
    "    data = d,  \n",
    "    method = \"lm\",  \n",
    "    trControl = train_control,  \n",
    "    metric = \"RMSE\"  \n",
    "  )\n",
    "  mse_results <- c(mse_results, mean((cv_model$results$RMSE)^2))\n",
    "}"
   ]
  },
  {
   "cell_type": "code",
   "execution_count": 29,
   "id": "c810c12d",
   "metadata": {
    "ExecuteTime": {
     "end_time": "2024-10-11T23:55:10.689532Z",
     "start_time": "2024-10-11T23:55:07.550Z"
    }
   },
   "outputs": [],
   "source": [
    "model_names <- c(\n",
    "  \"BODYFAT ~ AGE + WEIGHT + NECK + ABDOMEN + THIGH + FOREARM + WRIST\",  \n",
    "  \"BODYFAT ~ ABDOMEN \",  \n",
    "  \"BODYFAT ~ WEIGHT + ABDOMEN\",  \n",
    "  \"BODYFAT ~ ABDOMEN * WEIGHT\",  \n",
    "  \"BODYFAT ~ ABDOMEN_squared\", \n",
    "  \"BODYFAT ~ ABDOMEN_squared + WEIGHT\",  \n",
    "  \"BODYFAT ~ ABDOMEN + ABDOMEN_squared + WEIGHT\"  \n",
    ")\n",
    "mse_results <- round(mse_results, 3)\n",
    "\n",
    "results_df <- data.frame(\n",
    "  model = model_names,\n",
    "  adjusted_R_squared = c(adjusted_r_squared1, adjusted_r_squared2, adjusted_r_squared3, adjusted_r_squared4, adjusted_r_squared5, adjusted_r_squared6, adjusted_r_squared7),\n",
    "  MSE = mse_results\n",
    ")"
   ]
  },
  {
   "cell_type": "code",
   "execution_count": 30,
   "id": "7f32fd9b",
   "metadata": {
    "ExecuteTime": {
     "end_time": "2024-10-11T23:55:10.716525Z",
     "start_time": "2024-10-11T23:55:07.559Z"
    }
   },
   "outputs": [
    {
     "data": {
      "text/html": [
       "<table class=\"dataframe\">\n",
       "<caption>A data.frame: 7 × 3</caption>\n",
       "<thead>\n",
       "\t<tr><th scope=col>model</th><th scope=col>adjusted_R_squared</th><th scope=col>MSE</th></tr>\n",
       "\t<tr><th scope=col>&lt;chr&gt;</th><th scope=col>&lt;dbl&gt;</th><th scope=col>&lt;dbl&gt;</th></tr>\n",
       "</thead>\n",
       "<tbody>\n",
       "\t<tr><td>BODYFAT ~ AGE + WEIGHT + NECK + ABDOMEN + THIGH + FOREARM + WRIST</td><td>0.727</td><td>15.632</td></tr>\n",
       "\t<tr><td>BODYFAT ~ ABDOMEN                                                </td><td>0.666</td><td>18.760</td></tr>\n",
       "\t<tr><td>BODYFAT ~ WEIGHT + ABDOMEN                                       </td><td>0.708</td><td>16.341</td></tr>\n",
       "\t<tr><td>BODYFAT ~ ABDOMEN * WEIGHT                                       </td><td>0.615</td><td>21.505</td></tr>\n",
       "\t<tr><td>BODYFAT ~ ABDOMEN_squared                                        </td><td>0.659</td><td>18.806</td></tr>\n",
       "\t<tr><td>BODYFAT ~ ABDOMEN_squared + WEIGHT                               </td><td>0.696</td><td>17.223</td></tr>\n",
       "\t<tr><td>BODYFAT ~ ABDOMEN + ABDOMEN_squared + WEIGHT                     </td><td>0.709</td><td>16.439</td></tr>\n",
       "</tbody>\n",
       "</table>\n"
      ],
      "text/latex": [
       "A data.frame: 7 × 3\n",
       "\\begin{tabular}{lll}\n",
       " model & adjusted\\_R\\_squared & MSE\\\\\n",
       " <chr> & <dbl> & <dbl>\\\\\n",
       "\\hline\n",
       "\t BODYFAT \\textasciitilde{} AGE + WEIGHT + NECK + ABDOMEN + THIGH + FOREARM + WRIST & 0.727 & 15.632\\\\\n",
       "\t BODYFAT \\textasciitilde{} ABDOMEN                                                 & 0.666 & 18.760\\\\\n",
       "\t BODYFAT \\textasciitilde{} WEIGHT + ABDOMEN                                        & 0.708 & 16.341\\\\\n",
       "\t BODYFAT \\textasciitilde{} ABDOMEN * WEIGHT                                        & 0.615 & 21.505\\\\\n",
       "\t BODYFAT \\textasciitilde{} ABDOMEN\\_squared                                         & 0.659 & 18.806\\\\\n",
       "\t BODYFAT \\textasciitilde{} ABDOMEN\\_squared + WEIGHT                                & 0.696 & 17.223\\\\\n",
       "\t BODYFAT \\textasciitilde{} ABDOMEN + ABDOMEN\\_squared + WEIGHT                      & 0.709 & 16.439\\\\\n",
       "\\end{tabular}\n"
      ],
      "text/markdown": [
       "\n",
       "A data.frame: 7 × 3\n",
       "\n",
       "| model &lt;chr&gt; | adjusted_R_squared &lt;dbl&gt; | MSE &lt;dbl&gt; |\n",
       "|---|---|---|\n",
       "| BODYFAT ~ AGE + WEIGHT + NECK + ABDOMEN + THIGH + FOREARM + WRIST | 0.727 | 15.632 |\n",
       "| BODYFAT ~ ABDOMEN                                                 | 0.666 | 18.760 |\n",
       "| BODYFAT ~ WEIGHT + ABDOMEN                                        | 0.708 | 16.341 |\n",
       "| BODYFAT ~ ABDOMEN * WEIGHT                                        | 0.615 | 21.505 |\n",
       "| BODYFAT ~ ABDOMEN_squared                                         | 0.659 | 18.806 |\n",
       "| BODYFAT ~ ABDOMEN_squared + WEIGHT                                | 0.696 | 17.223 |\n",
       "| BODYFAT ~ ABDOMEN + ABDOMEN_squared + WEIGHT                      | 0.709 | 16.439 |\n",
       "\n"
      ],
      "text/plain": [
       "  model                                                            \n",
       "1 BODYFAT ~ AGE + WEIGHT + NECK + ABDOMEN + THIGH + FOREARM + WRIST\n",
       "2 BODYFAT ~ ABDOMEN                                                \n",
       "3 BODYFAT ~ WEIGHT + ABDOMEN                                       \n",
       "4 BODYFAT ~ ABDOMEN * WEIGHT                                       \n",
       "5 BODYFAT ~ ABDOMEN_squared                                        \n",
       "6 BODYFAT ~ ABDOMEN_squared + WEIGHT                               \n",
       "7 BODYFAT ~ ABDOMEN + ABDOMEN_squared + WEIGHT                     \n",
       "  adjusted_R_squared MSE   \n",
       "1 0.727              15.632\n",
       "2 0.666              18.760\n",
       "3 0.708              16.341\n",
       "4 0.615              21.505\n",
       "5 0.659              18.806\n",
       "6 0.696              17.223\n",
       "7 0.709              16.439"
      ]
     },
     "metadata": {},
     "output_type": "display_data"
    }
   ],
   "source": [
    "results_df"
   ]
  },
  {
   "cell_type": "code",
   "execution_count": 31,
   "id": "53a8f6da",
   "metadata": {
    "ExecuteTime": {
     "end_time": "2024-10-11T23:55:10.747806Z",
     "start_time": "2024-10-11T23:55:07.568Z"
    }
   },
   "outputs": [],
   "source": [
    "write.csv(d, \"data_new.csv\", row.names = FALSE)"
   ]
  },
  {
   "cell_type": "code",
   "execution_count": 32,
   "id": "cc7fab7a",
   "metadata": {
    "ExecuteTime": {
     "end_time": "2024-10-11T23:55:10.767235Z",
     "start_time": "2024-10-11T23:55:07.576Z"
    }
   },
   "outputs": [],
   "source": [
    "write.csv(results_df, \"results.csv\", row.names = FALSE)"
   ]
  },
  {
   "cell_type": "markdown",
   "id": "683caf5a",
   "metadata": {},
   "source": [
    "##  Model Compare"
   ]
  },
  {
   "cell_type": "markdown",
   "id": "ed08af14",
   "metadata": {},
   "source": [
    "1, Accuracy Retention in Noisy Data\n",
    "$$\n",
    "Retention Rate=1 - \\frac{|metric_{noisy} - metric_{original}|}{metric_{original}}\n",
    "$$\n",
    "metric = MSE"
   ]
  },
  {
   "cell_type": "code",
   "execution_count": 33,
   "id": "51890996",
   "metadata": {
    "ExecuteTime": {
     "end_time": "2024-10-11T23:55:10.800709Z",
     "start_time": "2024-10-11T23:55:07.596Z"
    }
   },
   "outputs": [],
   "source": [
    "dn <- read.csv(\"data_new.csv\")\n",
    "model_names <- c(\n",
    "  \"BODYFAT ~ AGE + WEIGHT + NECK + ABDOMEN + THIGH + FOREARM + WRIST\",  \n",
    "  \"BODYFAT ~ ABDOMEN \",  \n",
    "  \"BODYFAT ~ WEIGHT + ABDOMEN\",  \n",
    "  \"BODYFAT ~ ABDOMEN * WEIGHT\",  \n",
    "  \"BODYFAT ~ ABDOMEN_squared\", \n",
    "  \"BODYFAT ~ ABDOMEN_squared + WEIGHT\",  \n",
    "  \"BODYFAT ~ ABDOMEN + ABDOMEN_squared + WEIGHT\"  \n",
    ")\n",
    "\n",
    "add_noise <- function(y, noise_level = 0.1) {\n",
    "    noise_sd = sd(y)\n",
    "    return(y + rnorm(length(y), mean = 0, sd = (noise_level* noise_sd)  ))\n",
    "}\n",
    "\n",
    "metric <- function(predictions, actual) {\n",
    "  return(mean((predictions - actual)^2))\n",
    "}"
   ]
  },
  {
   "cell_type": "code",
   "execution_count": 34,
   "id": "267dde18",
   "metadata": {
    "ExecuteTime": {
     "end_time": "2024-10-11T23:55:11.016104Z",
     "start_time": "2024-10-11T23:55:07.620Z"
    }
   },
   "outputs": [],
   "source": [
    "folds <- createFolds(dn$BODYFAT, k = 10, list = TRUE)\n",
    "mse_list <- matrix(0, nrow = 10, ncol = 7)\n",
    "mse_list_noisy <- matrix(0, nrow = 10, ncol = 7)\n",
    "for(i in 1:10) {\n",
    "  test_index <- folds[[i]]\n",
    "  trainset <- dn[-test_index,]\n",
    "  testset <- dn[test_index,]\n",
    "  trainset_noisy <- as.data.frame(lapply(trainset,add_noise))\n",
    "  for (j in 1:7) {\n",
    "      model_formula <- model_names[j]\n",
    "      model <- lm(as.formula(model_formula), data = trainset)\n",
    "      predictions <- predict(model, newdata = testset)\n",
    "      mse <- metric(predictions, testset$BODYFAT)\n",
    "      mse_list[i,j]<-mse\n",
    "\n",
    "      model_noisy <- lm(as.formula(model_formula), data = trainset_noisy)\n",
    "      predictions_noisy <- predict(model_noisy, newdata = testset)\n",
    "      mse_noisy <- metric(predictions_noisy, testset$BODYFAT)\n",
    "      mse_list_noisy[i,j]<-mse_noisy\n",
    "  }\n",
    "}\n",
    "average_mse <- colMeans(mse_list)\n",
    "average_mse_noisy <- colMeans(mse_list_noisy)\n",
    "retention_rate <- 1 - abs(average_mse_noisy - average_mse) / average_mse"
   ]
  },
  {
   "cell_type": "code",
   "execution_count": 35,
   "id": "0bacbae2",
   "metadata": {
    "ExecuteTime": {
     "end_time": "2024-10-11T23:55:11.049803Z",
     "start_time": "2024-10-11T23:55:07.641Z"
    }
   },
   "outputs": [
    {
     "data": {
      "text/html": [
       "<table class=\"dataframe\">\n",
       "<caption>A data.frame: 7 × 5</caption>\n",
       "<thead>\n",
       "\t<tr><th scope=col>model</th><th scope=col>adjusted_R_squared</th><th scope=col>MSE</th><th scope=col>retention_MSE_rate</th><th scope=col>num_predictors</th></tr>\n",
       "\t<tr><th scope=col>&lt;chr&gt;</th><th scope=col>&lt;dbl&gt;</th><th scope=col>&lt;dbl&gt;</th><th scope=col>&lt;dbl&gt;</th><th scope=col>&lt;dbl&gt;</th></tr>\n",
       "</thead>\n",
       "<tbody>\n",
       "\t<tr><td>BODYFAT ~ AGE + WEIGHT + NECK + ABDOMEN + THIGH + FOREARM + WRIST</td><td>0.727</td><td>15.632</td><td>0.9950861</td><td>7</td></tr>\n",
       "\t<tr><td>BODYFAT ~ ABDOMEN                                                </td><td>0.666</td><td>18.760</td><td>0.9980324</td><td>1</td></tr>\n",
       "\t<tr><td>BODYFAT ~ WEIGHT + ABDOMEN                                       </td><td>0.708</td><td>16.341</td><td>0.9981718</td><td>2</td></tr>\n",
       "\t<tr><td>BODYFAT ~ ABDOMEN * WEIGHT                                       </td><td>0.615</td><td>21.505</td><td>0.9991299</td><td>1</td></tr>\n",
       "\t<tr><td>BODYFAT ~ ABDOMEN_squared                                        </td><td>0.659</td><td>18.806</td><td>0.9990679</td><td>1</td></tr>\n",
       "\t<tr><td>BODYFAT ~ ABDOMEN_squared + WEIGHT                               </td><td>0.696</td><td>17.223</td><td>0.9986232</td><td>2</td></tr>\n",
       "\t<tr><td>BODYFAT ~ ABDOMEN + ABDOMEN_squared + WEIGHT                     </td><td>0.709</td><td>16.439</td><td>0.9966941</td><td>2</td></tr>\n",
       "</tbody>\n",
       "</table>\n"
      ],
      "text/latex": [
       "A data.frame: 7 × 5\n",
       "\\begin{tabular}{lllll}\n",
       " model & adjusted\\_R\\_squared & MSE & retention\\_MSE\\_rate & num\\_predictors\\\\\n",
       " <chr> & <dbl> & <dbl> & <dbl> & <dbl>\\\\\n",
       "\\hline\n",
       "\t BODYFAT \\textasciitilde{} AGE + WEIGHT + NECK + ABDOMEN + THIGH + FOREARM + WRIST & 0.727 & 15.632 & 0.9950861 & 7\\\\\n",
       "\t BODYFAT \\textasciitilde{} ABDOMEN                                                 & 0.666 & 18.760 & 0.9980324 & 1\\\\\n",
       "\t BODYFAT \\textasciitilde{} WEIGHT + ABDOMEN                                        & 0.708 & 16.341 & 0.9981718 & 2\\\\\n",
       "\t BODYFAT \\textasciitilde{} ABDOMEN * WEIGHT                                        & 0.615 & 21.505 & 0.9991299 & 1\\\\\n",
       "\t BODYFAT \\textasciitilde{} ABDOMEN\\_squared                                         & 0.659 & 18.806 & 0.9990679 & 1\\\\\n",
       "\t BODYFAT \\textasciitilde{} ABDOMEN\\_squared + WEIGHT                                & 0.696 & 17.223 & 0.9986232 & 2\\\\\n",
       "\t BODYFAT \\textasciitilde{} ABDOMEN + ABDOMEN\\_squared + WEIGHT                      & 0.709 & 16.439 & 0.9966941 & 2\\\\\n",
       "\\end{tabular}\n"
      ],
      "text/markdown": [
       "\n",
       "A data.frame: 7 × 5\n",
       "\n",
       "| model &lt;chr&gt; | adjusted_R_squared &lt;dbl&gt; | MSE &lt;dbl&gt; | retention_MSE_rate &lt;dbl&gt; | num_predictors &lt;dbl&gt; |\n",
       "|---|---|---|---|---|\n",
       "| BODYFAT ~ AGE + WEIGHT + NECK + ABDOMEN + THIGH + FOREARM + WRIST | 0.727 | 15.632 | 0.9950861 | 7 |\n",
       "| BODYFAT ~ ABDOMEN                                                 | 0.666 | 18.760 | 0.9980324 | 1 |\n",
       "| BODYFAT ~ WEIGHT + ABDOMEN                                        | 0.708 | 16.341 | 0.9981718 | 2 |\n",
       "| BODYFAT ~ ABDOMEN * WEIGHT                                        | 0.615 | 21.505 | 0.9991299 | 1 |\n",
       "| BODYFAT ~ ABDOMEN_squared                                         | 0.659 | 18.806 | 0.9990679 | 1 |\n",
       "| BODYFAT ~ ABDOMEN_squared + WEIGHT                                | 0.696 | 17.223 | 0.9986232 | 2 |\n",
       "| BODYFAT ~ ABDOMEN + ABDOMEN_squared + WEIGHT                      | 0.709 | 16.439 | 0.9966941 | 2 |\n",
       "\n"
      ],
      "text/plain": [
       "  model                                                            \n",
       "1 BODYFAT ~ AGE + WEIGHT + NECK + ABDOMEN + THIGH + FOREARM + WRIST\n",
       "2 BODYFAT ~ ABDOMEN                                                \n",
       "3 BODYFAT ~ WEIGHT + ABDOMEN                                       \n",
       "4 BODYFAT ~ ABDOMEN * WEIGHT                                       \n",
       "5 BODYFAT ~ ABDOMEN_squared                                        \n",
       "6 BODYFAT ~ ABDOMEN_squared + WEIGHT                               \n",
       "7 BODYFAT ~ ABDOMEN + ABDOMEN_squared + WEIGHT                     \n",
       "  adjusted_R_squared MSE    retention_MSE_rate num_predictors\n",
       "1 0.727              15.632 0.9950861          7             \n",
       "2 0.666              18.760 0.9980324          1             \n",
       "3 0.708              16.341 0.9981718          2             \n",
       "4 0.615              21.505 0.9991299          1             \n",
       "5 0.659              18.806 0.9990679          1             \n",
       "6 0.696              17.223 0.9986232          2             \n",
       "7 0.709              16.439 0.9966941          2             "
      ]
     },
     "metadata": {},
     "output_type": "display_data"
    }
   ],
   "source": [
    "results_df = read.csv(\"results.csv\")\n",
    "results_df$retention_MSE_rate = retention_rate\n",
    "results_df$num_predictors = c(7, 1, 2, 1, 1, 2, 2)\n",
    "results_df"
   ]
  },
  {
   "cell_type": "markdown",
   "id": "90ec2015",
   "metadata": {},
   "source": [
    "## Model Diagnostics"
   ]
  },
  {
   "cell_type": "code",
   "execution_count": 36,
   "id": "32342ec6",
   "metadata": {
    "ExecuteTime": {
     "end_time": "2024-10-14T02:34:51.703841Z",
     "start_time": "2024-10-14T02:34:51.692Z"
    }
   },
   "outputs": [],
   "source": [
    "library(ggplot2)"
   ]
  },
  {
   "cell_type": "code",
   "execution_count": 37,
   "id": "2896c200",
   "metadata": {
    "ExecuteTime": {
     "end_time": "2024-10-14T02:35:00.152390Z",
     "start_time": "2024-10-14T02:35:00.136Z"
    }
   },
   "outputs": [],
   "source": [
    "dn <- read.csv(\"data_new.csv\")\n",
    "model_names <- c(\n",
    "  \"BODYFAT ~ AGE + WEIGHT + NECK + ABDOMEN + THIGH + FOREARM + WRIST\",  \n",
    "  \"BODYFAT ~ ABDOMEN \",  \n",
    "  \"BODYFAT ~ WEIGHT + ABDOMEN\",  \n",
    "  \"BODYFAT ~ ABDOMEN * WEIGHT\",  \n",
    "  \"BODYFAT ~ ABDOMEN_squared\", \n",
    "  \"BODYFAT ~ ABDOMEN_squared + WEIGHT\",  \n",
    "  \"BODYFAT ~ ABDOMEN + ABDOMEN_squared + WEIGHT\"  \n",
    ")\n"
   ]
  },
  {
   "cell_type": "markdown",
   "id": "d604f43f",
   "metadata": {},
   "source": [
    "### res plot"
   ]
  },
  {
   "cell_type": "code",
   "execution_count": 38,
   "id": "2c843099",
   "metadata": {
    "ExecuteTime": {
     "end_time": "2024-10-14T02:35:03.651165Z",
     "start_time": "2024-10-14T02:35:03.174Z"
    }
   },
   "outputs": [
    {
     "data": {
      "text/html": [
       "<strong>png:</strong> 2"
      ],
      "text/latex": [
       "\\textbf{png:} 2"
      ],
      "text/markdown": [
       "**png:** 2"
      ],
      "text/plain": [
       "png \n",
       "  2 "
      ]
     },
     "metadata": {},
     "output_type": "display_data"
    },
    {
     "data": {
      "image/png": "[encoded data removed]",
      "text/plain": [
       "Plot with title \"Residual Plots for Different Models\""
      ]
     },
     "metadata": {
      "image/png": {
       "height": 600,
       "width": 600
      }
     },
     "output_type": "display_data"
    }
   ],
   "source": [
    "models <- list()\n",
    "for (i in 1:length(model_names)) {\n",
    "  models[[i]] <- lm(as.formula(model_names[i]), data = dn)\n",
    "}\n",
    "png(\"Residual_Plots.png\", width = 1000, height = 1000)  \n",
    "options(repr.plot.width = 10, repr.plot.height = 10)\n",
    "par(mfrow = c(4, 2), mar = c(3, 3, 2, 1), oma = c(0, 0, 2, 0))\n",
    "for (i in 1:length(models)) {\n",
    "  plot(residuals(models[[i]]),   col = \"blue\", pch = 19)\n",
    "  abline(h = 0, col = \"red\", lty = 2)\n",
    "     mtext(model_names[i], side = 3, line = 0.5, cex = 0.8)  \n",
    "}\n",
    "title(\"Residual Plots for Different Models\", outer = TRUE, cex.main = 1.5)\n",
    "dev.off()\n",
    "\n",
    "par(mfrow = c(4, 2), mar = c(3, 3, 2, 1), oma = c(0, 0, 2, 0))\n",
    "for (i in 1:length(models)) {\n",
    "  plot(residuals(models[[i]]),   col = \"blue\", pch = 19)\n",
    "  abline(h = 0, col = \"red\", lty = 2)\n",
    "     mtext(model_names[i], side = 3, line = 0.5, cex = 0.8)  \n",
    "}\n",
    "title(\"Residual Plots for Different Models\", outer = TRUE, cex.main = 1.5)"
   ]
  },
  {
   "cell_type": "markdown",
   "id": "cff66c82",
   "metadata": {},
   "source": [
    "### QQ plot"
   ]
  },
  {
   "cell_type": "code",
   "execution_count": 39,
   "id": "4b93b9f2",
   "metadata": {
    "ExecuteTime": {
     "end_time": "2024-10-14T02:36:48.149173Z",
     "start_time": "2024-10-14T02:36:47.782Z"
    }
   },
   "outputs": [
    {
     "data": {
      "text/html": [
       "<strong>png:</strong> 2"
      ],
      "text/latex": [
       "\\textbf{png:} 2"
      ],
      "text/markdown": [
       "**png:** 2"
      ],
      "text/plain": [
       "png \n",
       "  2 "
      ]
     },
     "metadata": {},
     "output_type": "display_data"
    },
    {
     "data": {
      "image/png": "[encoded data removed]",
      "text/plain": [
       "Plot with title \"QQ Plots for Different Models\""
      ]
     },
     "metadata": {
      "image/png": {
       "height": 600,
       "width": 600
      }
     },
     "output_type": "display_data"
    }
   ],
   "source": [
    "png(\"QQ_Plots.png\", width = 1000, height = 1000)  # 指定保存为png，设置尺寸\n",
    "par(mfrow = c(4, 2), mar = c(3, 3, 2, 1), oma = c(0, 0, 2, 0))\n",
    "for (i in 1:length(models)) {\n",
    "  qqnorm(residuals(models[[i]]), main = '', col = \"blue\", pch = 19)\n",
    "  qqline(residuals(models[[i]]), col = \"red\", lty = 2)\n",
    "    mtext(model_names[i], side = 3, line = 0.5, cex = 0.8)  \n",
    "}\n",
    "title(\"QQ Plots for Different Models\", outer = TRUE, cex.main = 1.5)\n",
    "dev.off()\n",
    "par(mfrow = c(4, 2), mar = c(3, 3, 2, 1), oma = c(0, 0, 2, 0))\n",
    "for (i in 1:length(models)) {\n",
    "  qqnorm(residuals(models[[i]]), main = '', col = \"blue\", pch = 19)\n",
    "  qqline(residuals(models[[i]]), col = \"red\", lty = 2)\n",
    "    mtext(model_names[i], side = 3, line = 0.5, cex = 0.8)  \n",
    "}\n",
    "title(\"QQ Plots for Different Models\", outer = TRUE, cex.main = 1.5)"
   ]
  },
  {
   "cell_type": "code",
   "execution_count": null,
   "id": "17e82abb",
   "metadata": {},
   "outputs": [],
   "source": []
  }
 ],
 "metadata": {
  "kernelspec": {
   "display_name": "R",
   "language": "R",
   "name": "ir"
  },
  "language_info": {
   "codemirror_mode": "r",
   "file_extension": ".r",
   "mimetype": "text/x-r-source",
   "name": "R",
   "pygments_lexer": "r",
   "version": "4.3.1"
  },
  "nbTranslate": {
   "displayLangs": [
    "*"
   ],
   "hotkey": "alt-t",
   "langInMainMenu": true,
   "sourceLang": "en",
   "targetLang": "fr",
   "useGoogleTranslate": true
  },
  "toc": {
   "base_numbering": 1,
   "nav_menu": {},
   "number_sections": true,
   "sideBar": true,
   "skip_h1_title": false,
   "title_cell": "Table of Contents",
   "title_sidebar": "Contents",
   "toc_cell": false,
   "toc_position": {},
   "toc_section_display": true,
   "toc_window_display": false
  }
 },
 "nbformat": 4,
 "nbformat_minor": 5
}
